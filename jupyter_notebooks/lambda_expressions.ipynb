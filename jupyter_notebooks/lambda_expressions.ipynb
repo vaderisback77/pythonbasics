{
 "cells": [
  {
   "cell_type": "code",
   "execution_count": 18,
   "id": "c36616b0-88b0-48bb-87ae-dad7a9de4263",
   "metadata": {},
   "outputs": [],
   "source": [
    "# Step 1: Defining lambda function and assigning to a variable\n",
    "print_lambda_func = lambda x: print(x)"
   ]
  },
  {
   "cell_type": "code",
   "execution_count": 19,
   "id": "39f96445-e788-4758-a606-a65d828d57de",
   "metadata": {},
   "outputs": [
    {
     "name": "stdout",
     "output_type": "stream",
     "text": [
      "Hello\n"
     ]
    }
   ],
   "source": [
    "print_lambda_func(\"Hello\")"
   ]
  },
  {
   "cell_type": "code",
   "execution_count": 20,
   "id": "da2fb261-3220-4c1a-a122-5ea663cdc1ee",
   "metadata": {},
   "outputs": [
    {
     "name": "stdout",
     "output_type": "stream",
     "text": [
      "Hello Saurabh\n"
     ]
    }
   ],
   "source": [
    "print_lambda_func(\"Hello Saurabh\")"
   ]
  },
  {
   "cell_type": "code",
   "execution_count": 21,
   "id": "648aba8a-5167-4b01-b697-c4d379132548",
   "metadata": {},
   "outputs": [],
   "source": [
    "# Step 2: Defining second function which will call lambda function\n",
    "def print_something_n_times(n, what, fn):\n",
    "    i = 0\n",
    "    for i in range(n):\n",
    "        fn(what)"
   ]
  },
  {
   "cell_type": "code",
   "execution_count": 22,
   "id": "148ba1d5-d5c4-4407-82b1-6722908c89f7",
   "metadata": {},
   "outputs": [
    {
     "name": "stdout",
     "output_type": "stream",
     "text": [
      "Hello Saurabh\n",
      "Hello Saurabh\n",
      "Hello Saurabh\n",
      "Hello Saurabh\n",
      "Hello Saurabh\n"
     ]
    }
   ],
   "source": [
    "print_something_n_times(5, \"Hello Saurabh\", print_lambda_func)"
   ]
  },
  {
   "cell_type": "code",
   "execution_count": 25,
   "id": "27c448b1-381b-40e9-bdfe-358325678a58",
   "metadata": {},
   "outputs": [
    {
     "name": "stdin",
     "output_type": "stream",
     "text": [
      "What do you want to print?\n",
      " Om Sri Sai Ram\n"
     ]
    },
    {
     "name": "stdout",
     "output_type": "stream",
     "text": [
      "Om Sri Sai Ram\n",
      "Om Sri Sai Ram\n",
      "Om Sri Sai Ram\n",
      "Om Sri Sai Ram\n",
      "Om Sri Sai Ram\n",
      "Om Sri Sai Ram\n",
      "Om Sri Sai Ram\n",
      "Om Sri Sai Ram\n",
      "Om Sri Sai Ram\n",
      "Om Sri Sai Ram\n"
     ]
    }
   ],
   "source": [
    "command = input(\"What do you want to print?\\n\")\n",
    "print_something_n_times(10, command, print_lambda_func)"
   ]
  },
  {
   "cell_type": "code",
   "execution_count": 26,
   "id": "e59fbde1-ff34-4749-8db9-1e2b43ae538f",
   "metadata": {},
   "outputs": [],
   "source": [
    "score = [20, 86, 56, 45, 90, 10]"
   ]
  },
  {
   "cell_type": "code",
   "execution_count": 27,
   "id": "de41a1c2-efc7-471c-8c09-573a72a1e03f",
   "metadata": {},
   "outputs": [
    {
     "data": {
      "text/plain": [
       "list"
      ]
     },
     "execution_count": 27,
     "metadata": {},
     "output_type": "execute_result"
    }
   ],
   "source": [
    "type(score)"
   ]
  },
  {
   "cell_type": "code",
   "execution_count": 33,
   "id": "2bedb594-7113-46ab-af1a-6b65678c01e5",
   "metadata": {},
   "outputs": [
    {
     "data": {
      "text/plain": [
       "[10, 20, 45, 56, 86, 90]"
      ]
     },
     "execution_count": 33,
     "metadata": {},
     "output_type": "execute_result"
    }
   ],
   "source": [
    "sorted(score)"
   ]
  },
  {
   "cell_type": "code",
   "execution_count": 35,
   "id": "941c6cf2-8dc9-4a15-b67c-6f0401baecde",
   "metadata": {},
   "outputs": [
    {
     "data": {
      "text/plain": [
       "[10, 20, 45, 56, 86, 90]"
      ]
     },
     "execution_count": 35,
     "metadata": {},
     "output_type": "execute_result"
    }
   ],
   "source": [
    "score"
   ]
  },
  {
   "cell_type": "code",
   "execution_count": 37,
   "id": "fe5a66a8-97a0-4348-a7fb-d162c6a5a76f",
   "metadata": {},
   "outputs": [],
   "source": [
    "profile = {'name': 'Saurabh', 'age': '35', 'state': 'Utah', 'country': 'United States'}"
   ]
  },
  {
   "cell_type": "code",
   "execution_count": 38,
   "id": "8e2d57f6-c92b-4147-af06-462197b18533",
   "metadata": {},
   "outputs": [
    {
     "data": {
      "text/plain": [
       "{'name': 'Saurabh', 'age': '35', 'state': 'Utah', 'country': 'United States'}"
      ]
     },
     "execution_count": 38,
     "metadata": {},
     "output_type": "execute_result"
    }
   ],
   "source": [
    "profile"
   ]
  },
  {
   "cell_type": "code",
   "execution_count": 41,
   "id": "7f456594-a2de-4878-abb1-cf68bf82cbdd",
   "metadata": {},
   "outputs": [
    {
     "data": {
      "text/plain": [
       "['35', 'Saurabh', 'United States', 'Utah']"
      ]
     },
     "execution_count": 41,
     "metadata": {},
     "output_type": "execute_result"
    }
   ],
   "source": [
    "sorted(profile.values())"
   ]
  },
  {
   "cell_type": "code",
   "execution_count": 44,
   "id": "f38e79fa-ce07-4e13-afe1-819a7d5ac5fb",
   "metadata": {},
   "outputs": [
    {
     "ename": "TypeError",
     "evalue": "ord() expected a character, but string of length 7 found",
     "output_type": "error",
     "traceback": [
      "\u001b[0;31m---------------------------------------------------------------------------\u001b[0m",
      "\u001b[0;31mTypeError\u001b[0m                                 Traceback (most recent call last)",
      "Cell \u001b[0;32mIn[44], line 1\u001b[0m\n\u001b[0;32m----> 1\u001b[0m \u001b[38;5;28;43mord\u001b[39;49m\u001b[43m(\u001b[49m\u001b[38;5;124;43m'\u001b[39;49m\u001b[38;5;124;43mSaurabh\u001b[39;49m\u001b[38;5;124;43m'\u001b[39;49m\u001b[43m)\u001b[49m\n",
      "\u001b[0;31mTypeError\u001b[0m: ord() expected a character, but string of length 7 found"
     ]
    }
   ],
   "source": [
    "ord('Saurabh')"
   ]
  },
  {
   "cell_type": "code",
   "execution_count": 45,
   "id": "09f42117-ff50-4831-a8d7-558d8d4c7b15",
   "metadata": {},
   "outputs": [],
   "source": [
    "j = 10"
   ]
  },
  {
   "cell_type": "code",
   "execution_count": 46,
   "id": "a2ae7706-2b74-4b2e-a818-626657f0ab26",
   "metadata": {},
   "outputs": [
    {
     "data": {
      "text/plain": [
       "10"
      ]
     },
     "execution_count": 46,
     "metadata": {},
     "output_type": "execute_result"
    }
   ],
   "source": [
    "j"
   ]
  },
  {
   "cell_type": "code",
   "execution_count": 48,
   "id": "4be7b4a5-7901-4eeb-8e9a-26081e58cfdd",
   "metadata": {},
   "outputs": [],
   "source": [
    "# Another lambda example\n",
    "names = [\"Patrick\", \"Steve\", \"Ron\", \"Michelle\", \"Paul\", \"Eric\"]"
   ]
  },
  {
   "cell_type": "code",
   "execution_count": 49,
   "id": "99961197-026b-48d5-8df1-5cb9ccb4df78",
   "metadata": {},
   "outputs": [
    {
     "data": {
      "text/plain": [
       "['Patrick', 'Steve', 'Ron', 'Michelle', 'Paul', 'Eric']"
      ]
     },
     "execution_count": 49,
     "metadata": {},
     "output_type": "execute_result"
    }
   ],
   "source": [
    "names"
   ]
  },
  {
   "cell_type": "code",
   "execution_count": 50,
   "id": "cdf4c48a-88ec-4bb5-9460-a1999080217e",
   "metadata": {},
   "outputs": [
    {
     "data": {
      "text/plain": [
       "['Eric', 'Michelle', 'Patrick', 'Paul', 'Ron', 'Steve']"
      ]
     },
     "execution_count": 50,
     "metadata": {},
     "output_type": "execute_result"
    }
   ],
   "source": [
    "sorted(names)"
   ]
  },
  {
   "cell_type": "code",
   "execution_count": 51,
   "id": "a4fc0b6d-a68b-40cb-a140-2737a23b499a",
   "metadata": {},
   "outputs": [
    {
     "data": {
      "text/plain": [
       "['Patrick', 'Steve', 'Ron', 'Michelle', 'Paul', 'Eric']"
      ]
     },
     "execution_count": 51,
     "metadata": {},
     "output_type": "execute_result"
    }
   ],
   "source": [
    "names"
   ]
  },
  {
   "cell_type": "code",
   "execution_count": 52,
   "id": "831ab310-c36a-4796-9477-cc41a2d864b7",
   "metadata": {},
   "outputs": [],
   "source": [
    "names.sort()"
   ]
  },
  {
   "cell_type": "code",
   "execution_count": 53,
   "id": "3d2d3255-4707-453f-89b9-7a4a2a7d6779",
   "metadata": {},
   "outputs": [
    {
     "data": {
      "text/plain": [
       "['Eric', 'Michelle', 'Patrick', 'Paul', 'Ron', 'Steve']"
      ]
     },
     "execution_count": 53,
     "metadata": {},
     "output_type": "execute_result"
    }
   ],
   "source": [
    "names"
   ]
  },
  {
   "cell_type": "code",
   "execution_count": 55,
   "id": "20e15fc1-1b69-456f-a31b-1fa37e3df251",
   "metadata": {},
   "outputs": [
    {
     "data": {
      "text/plain": [
       "['Ron', 'Paul', 'Patrick', 'Michelle', 'Steve', 'Eric']"
      ]
     },
     "execution_count": 55,
     "metadata": {},
     "output_type": "execute_result"
    }
   ],
   "source": [
    "sorted(names, key= lambda x: x[-1], reverse=True)"
   ]
  },
  {
   "cell_type": "code",
   "execution_count": 56,
   "id": "4f7c2740-2644-433a-8932-e1398f3f8f04",
   "metadata": {},
   "outputs": [],
   "source": [
    "s = lambda x: x[-1]"
   ]
  },
  {
   "cell_type": "code",
   "execution_count": 57,
   "id": "30f80775-c645-4cbe-83f0-b3194b6b69bb",
   "metadata": {},
   "outputs": [
    {
     "data": {
      "text/plain": [
       "<function __main__.<lambda>(x)>"
      ]
     },
     "execution_count": 57,
     "metadata": {},
     "output_type": "execute_result"
    }
   ],
   "source": [
    "s"
   ]
  },
  {
   "cell_type": "code",
   "execution_count": 58,
   "id": "2e878f73-6ded-4a05-aa16-91edcb0b2144",
   "metadata": {},
   "outputs": [
    {
     "data": {
      "text/plain": [
       "'h'"
      ]
     },
     "execution_count": 58,
     "metadata": {},
     "output_type": "execute_result"
    }
   ],
   "source": [
    "s(\"Saurabh\")"
   ]
  },
  {
   "cell_type": "code",
   "execution_count": 60,
   "id": "4a3a1ce7-4ad1-4a2e-a190-cd7264577b6c",
   "metadata": {},
   "outputs": [
    {
     "data": {
      "text/plain": [
       "4"
      ]
     },
     "execution_count": 60,
     "metadata": {},
     "output_type": "execute_result"
    }
   ],
   "source": [
    "s([1, 3, 6, 9, 4])"
   ]
  },
  {
   "cell_type": "code",
   "execution_count": 61,
   "id": "4bae64ec-06e6-4415-b111-fb873d2246cd",
   "metadata": {},
   "outputs": [],
   "source": [
    "# Write code which randomize a list using lambda"
   ]
  },
  {
   "cell_type": "code",
   "execution_count": 65,
   "id": "d8136cde-7783-4aa0-bb0e-a481a02d8e04",
   "metadata": {},
   "outputs": [],
   "source": [
    "from random import random\n",
    "l = [1, 3, 6, 9, 56, 89, 67]"
   ]
  },
  {
   "cell_type": "code",
   "execution_count": null,
   "id": "8ffb39ca-21a8-494c-a68f-f1b91b6170f3",
   "metadata": {},
   "outputs": [],
   "source": [
    "sorted(l, key=lambda x: x["
   ]
  }
 ],
 "metadata": {
  "kernelspec": {
   "display_name": "Python 3 (ipykernel)",
   "language": "python",
   "name": "python3"
  },
  "language_info": {
   "codemirror_mode": {
    "name": "ipython",
    "version": 3
   },
   "file_extension": ".py",
   "mimetype": "text/x-python",
   "name": "python",
   "nbconvert_exporter": "python",
   "pygments_lexer": "ipython3",
   "version": "3.9.18"
  }
 },
 "nbformat": 4,
 "nbformat_minor": 5
}
